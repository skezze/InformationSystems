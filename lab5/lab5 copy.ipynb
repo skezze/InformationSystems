{
 "cells": [
  {
   "cell_type": "code",
   "execution_count": 1,
   "metadata": {},
   "outputs": [
    {
     "name": "stdout",
     "output_type": "stream",
     "text": [
      "WARNING:tensorflow:From c:\\Users\\cherrypix\\AppData\\Local\\Programs\\Python\\Python310\\lib\\site-packages\\keras\\src\\losses.py:2976: The name tf.losses.sparse_softmax_cross_entropy is deprecated. Please use tf.compat.v1.losses.sparse_softmax_cross_entropy instead.\n",
      "\n",
      "Розмірність тренувальних зображень: (50000, 32, 32, 3)\n",
      "Розмірність тестових зображень: (10000, 32, 32, 3)\n"
     ]
    },
    {
     "data": {
      "text/plain": [
       "<Figure size 1000x1000 with 0 Axes>"
      ]
     },
     "metadata": {},
     "output_type": "display_data"
    },
    {
     "name": "stdout",
     "output_type": "stream",
     "text": [
      "WARNING:tensorflow:From c:\\Users\\cherrypix\\AppData\\Local\\Programs\\Python\\Python310\\lib\\site-packages\\keras\\src\\backend.py:873: The name tf.get_default_graph is deprecated. Please use tf.compat.v1.get_default_graph instead.\n",
      "\n",
      "WARNING:tensorflow:From c:\\Users\\cherrypix\\AppData\\Local\\Programs\\Python\\Python310\\lib\\site-packages\\keras\\src\\layers\\pooling\\max_pooling2d.py:161: The name tf.nn.max_pool is deprecated. Please use tf.nn.max_pool2d instead.\n",
      "\n",
      "Model: \"sequential\"\n",
      "_________________________________________________________________\n",
      " Layer (type)                Output Shape              Param #   \n",
      "=================================================================\n",
      " conv2d (Conv2D)             (None, 30, 30, 32)        896       \n",
      "                                                                 \n",
      " max_pooling2d (MaxPooling2  (None, 15, 15, 32)        0         \n",
      " D)                                                              \n",
      "                                                                 \n",
      " conv2d_1 (Conv2D)           (None, 13, 13, 64)        18496     \n",
      "                                                                 \n",
      " max_pooling2d_1 (MaxPoolin  (None, 6, 6, 64)          0         \n",
      " g2D)                                                            \n",
      "                                                                 \n",
      " conv2d_2 (Conv2D)           (None, 4, 4, 64)          36928     \n",
      "                                                                 \n",
      " flatten (Flatten)           (None, 1024)              0         \n",
      "                                                                 \n",
      " dense (Dense)               (None, 64)                65600     \n",
      "                                                                 \n",
      " dense_1 (Dense)             (None, 3)                 195       \n",
      "                                                                 \n",
      "=================================================================\n",
      "Total params: 122115 (477.01 KB)\n",
      "Trainable params: 122115 (477.01 KB)\n",
      "Non-trainable params: 0 (0.00 Byte)\n",
      "_________________________________________________________________\n",
      "WARNING:tensorflow:From c:\\Users\\cherrypix\\AppData\\Local\\Programs\\Python\\Python310\\lib\\site-packages\\keras\\src\\optimizers\\__init__.py:309: The name tf.train.Optimizer is deprecated. Please use tf.compat.v1.train.Optimizer instead.\n",
      "\n",
      "Epoch 1/50\n",
      "WARNING:tensorflow:From c:\\Users\\cherrypix\\AppData\\Local\\Programs\\Python\\Python310\\lib\\site-packages\\keras\\src\\utils\\tf_utils.py:492: The name tf.ragged.RaggedTensorValue is deprecated. Please use tf.compat.v1.ragged.RaggedTensorValue instead.\n",
      "\n",
      "WARNING:tensorflow:From c:\\Users\\cherrypix\\AppData\\Local\\Programs\\Python\\Python310\\lib\\site-packages\\keras\\src\\engine\\base_layer_utils.py:384: The name tf.executing_eagerly_outside_functions is deprecated. Please use tf.compat.v1.executing_eagerly_outside_functions instead.\n",
      "\n",
      "1500/1500 [==============================] - 13s 8ms/step - loss: 0.7841 - accuracy: 0.6478 - val_loss: 0.6505 - val_accuracy: 0.7230\n",
      "Epoch 2/50\n",
      "   1/1500 [..............................] - ETA: 19s - loss: 0.9268 - accuracy: 0.5000"
     ]
    },
    {
     "name": "stderr",
     "output_type": "stream",
     "text": [
      "c:\\Users\\cherrypix\\AppData\\Local\\Programs\\Python\\Python310\\lib\\site-packages\\keras\\src\\engine\\training.py:3103: UserWarning: You are saving your model as an HDF5 file via `model.save()`. This file format is considered legacy. We recommend using instead the native Keras format, e.g. `model.save('my_model.keras')`.\n",
      "  saving_api.save_model(\n"
     ]
    },
    {
     "name": "stdout",
     "output_type": "stream",
     "text": [
      "1500/1500 [==============================] - 11s 8ms/step - loss: 0.6145 - accuracy: 0.7449 - val_loss: 0.5583 - val_accuracy: 0.7697\n",
      "Epoch 3/50\n",
      "1500/1500 [==============================] - 11s 7ms/step - loss: 0.5305 - accuracy: 0.7865 - val_loss: 0.5566 - val_accuracy: 0.7753\n",
      "Epoch 4/50\n",
      "1500/1500 [==============================] - 10s 7ms/step - loss: 0.4687 - accuracy: 0.8086 - val_loss: 0.5326 - val_accuracy: 0.7813\n",
      "Epoch 5/50\n",
      "1500/1500 [==============================] - 12s 8ms/step - loss: 0.4151 - accuracy: 0.8349 - val_loss: 0.4805 - val_accuracy: 0.8060\n",
      "Epoch 6/50\n",
      "1500/1500 [==============================] - 10s 7ms/step - loss: 0.3732 - accuracy: 0.8519 - val_loss: 0.5351 - val_accuracy: 0.8010\n",
      "Epoch 7/50\n",
      "1500/1500 [==============================] - 11s 7ms/step - loss: 0.3270 - accuracy: 0.8728 - val_loss: 0.4914 - val_accuracy: 0.8123\n",
      "Epoch 8/50\n",
      "1500/1500 [==============================] - 10s 7ms/step - loss: 0.2850 - accuracy: 0.8894 - val_loss: 0.5084 - val_accuracy: 0.8110\n",
      "Epoch 9/50\n",
      "1500/1500 [==============================] - 10s 7ms/step - loss: 0.2472 - accuracy: 0.9059 - val_loss: 0.5380 - val_accuracy: 0.8230\n",
      "Epoch 10/50\n",
      "1500/1500 [==============================] - 11s 7ms/step - loss: 0.2110 - accuracy: 0.9169 - val_loss: 0.5987 - val_accuracy: 0.8150\n"
     ]
    },
    {
     "data": {
      "image/png": "[encoded data removed]",
      "text/plain": [
       "<Figure size 640x480 with 1 Axes>"
      ]
     },
     "metadata": {},
     "output_type": "display_data"
    }
   ],
   "source": [
    "# Встановлення необхідних бібліотек\n",
    "import tensorflow as tf\n",
    "from keras import layers, models\n",
    "from keras.optimizers.legacy import Adam\n",
    "from keras.losses import SparseCategoricalCrossentropy\n",
    "from keras.metrics import SparseCategoricalAccuracy\n",
    "from keras.utils import to_categorical\n",
    "from keras.callbacks import ModelCheckpoint, EarlyStopping\n",
    "import matplotlib.pyplot as plt\n",
    "from keras.datasets import cifar10\n",
    "import numpy as np\n",
    "\n",
    "# Завантаження даних\n",
    "(train_images, train_labels), (test_images, test_labels) = cifar10.load_data()\n",
    "\n",
    "# Перевірка розмірності даних\n",
    "print(f\"Розмірність тренувальних зображень: {train_images.shape}\")\n",
    "print(f\"Розмірність тестових зображень: {test_images.shape}\")\n",
    "\n",
    "selected_classes=[5,6,2]# dog / frog / bird\n",
    "train_mask= np.isin(train_labels.flatten(), selected_classes)\n",
    "test_mask=np.isin(test_labels.flatten (), selected_classes)\n",
    "\n",
    "#Відфільтруємо дані\n",
    "train_images, train_labels = train_images[train_mask],train_labels [train_mask]\n",
    "test_images, test_labels = test_images[test_mask], test_labels[test_mask]\n",
    "\n",
    "#we are doing normalization\n",
    "train_images, test_images=train_images/255.0, test_images/255.0\n",
    "\n",
    "#Візуалізуємо перших 9 зображень:\n",
    "class_names = ['dog', 'frog', 'bird']\n",
    "plt.figure(figsize=(10, 10))\n",
    "class_index=0\n",
    "for i in range (9):\n",
    "    while class_index>=len(class_names):\n",
    "        class_index=0\n",
    "        current_class=selected_classes[class_index]\n",
    "        class_images = train_images [train_labels.flatten() == current_class]\n",
    "        plt.subplot(3, 3, i+1) \n",
    "        plt.xticks([])\n",
    "        plt.yticks([])\n",
    "        plt.grid(False)\n",
    "        plt.imshow(class_images[i])\n",
    "        plt.xlabel(class_names[class_index])\n",
    "        class_index += 1\n",
    "plt.show()\n",
    "\n",
    "model = models.Sequential()\n",
    "model.add(layers.Conv2D(32, (3, 3), activation='relu', input_shape=(32, 32, 3)))\n",
    "model.add(layers.MaxPooling2D((2, 2)))\n",
    "model.add(layers.Conv2D(64, (3, 3), activation='relu'))\n",
    "model.add(layers.MaxPooling2D((2, 2)))\n",
    "model.add(layers.Conv2D(64, (3, 3), activation='relu'))\n",
    "model.add(layers.Flatten())\n",
    "model.add(layers.Dense(64, activation='relu'))\n",
    "model.add(layers.Dense(len(class_names), activation='softmax'))\n",
    "model.summary()\n",
    "\n",
    "#Компіляція моделі\n",
    "model.compile(optimizer='adam', loss='sparse_categorical_crossentropy'  , metrics=['accuracy'])\n",
    "#Перетворення міток\n",
    "class_mapping={5:0, 6:1, 2:2}\n",
    "\n",
    "train_labels_mapped = np.vectorize(class_mapping.get) (train_labels)\n",
    "test_labels_mapped = np.vectorize(class_mapping.get) (test_labels)\n",
    "\n",
    "checkpoint = ModelCheckpoint(\"best_model.h5\", monitor=\"val_loss\", save_best_only=True)\n",
    "# Зупинка тренування, якщо немає поліпшень протягом 5 епох\n",
    "early_stopping = EarlyStopping(monitor=\"val_loss\", patience=5)\n",
    "\n",
    "history = model.fit(train_images, train_labels_mapped, epochs=50, batch_size=10, validation_data = (test_images, test_labels_mapped),\n",
    "                    callbacks=[checkpoint, early_stopping])\n",
    "# Візуалізація процесу тренування\n",
    "plt.plot(history.history['loss'], label='Тренувальна втрата')\n",
    "plt.plot(history.history['val_loss'], label='Валідаційна втрата')\n",
    "plt.xlabel('Епоха')\n",
    "plt.ylabel('Втрата')\n",
    "plt.legend()\n",
    "plt.show()\n",
    "\n"
   ]
  },
  {
   "cell_type": "code",
   "execution_count": 3,
   "metadata": {},
   "outputs": [
    {
     "name": "stdout",
     "output_type": "stream",
     "text": [
      "94/94 - 0s - loss: 0.5987 - accuracy: 0.8150 - 388ms/epoch - 4ms/step\n",
      "\n",
      "Точність на тестових даних: 0.8149999976158142\n"
     ]
    }
   ],
   "source": [
    "import matplotlib.pyplot as plt\n",
    "from keras.utils import plot_model\n",
    "plot_model(model, to_file='model_plot.png', show_shapes=True, show_layer_names=True)\n",
    "\n",
    "# Визначення показників якості\n",
    "test_loss, test_acc = model.evaluate(test_images, test_labels_mapped, verbose=2)\n",
    "print(f'\\nТочність на тестових даних: {test_acc}')\n"
   ]
  }
 ],
 "metadata": {
  "kernelspec": {
   "display_name": "Python 3",
   "language": "python",
   "name": "python3"
  },
  "language_info": {
   "codemirror_mode": {
    "name": "ipython",
    "version": 3
   },
   "file_extension": ".py",
   "mimetype": "text/x-python",
   "name": "python",
   "nbconvert_exporter": "python",
   "pygments_lexer": "ipython3",
   "version": "3.10.6"
  }
 },
 "nbformat": 4,
 "nbformat_minor": 2
}
